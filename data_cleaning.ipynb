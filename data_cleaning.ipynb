{
 "cells": [
  {
   "cell_type": "code",
   "execution_count": 1,
   "id": "aaba8129",
   "metadata": {},
   "outputs": [],
   "source": [
    "import pandas as pd\n",
    "import numpy as np\n",
    "import os\n",
    "from math import *"
   ]
  },
  {
   "cell_type": "code",
   "execution_count": 2,
   "id": "6458ffcb",
   "metadata": {},
   "outputs": [],
   "source": [
    "# Read the size of the file\n",
    "def get_dir_size(dir): \n",
    "    size = 0 \n",
    "    for root, dirs, files in os.walk(dir): \n",
    "        size += sum([os.path.getsize(root + '/'+ name) for name in files]) \n",
    "    return size"
   ]
  },
  {
   "cell_type": "code",
   "execution_count": 3,
   "id": "5484406e",
   "metadata": {},
   "outputs": [],
   "source": [
    "# Determine whether the file is larger than 200M as the standard for whether convergence is complete\n",
    "def get_origin_data (i,dirpath):\n",
    "    size = get_dir_size(dirpath) \n",
    "    print (i,size) \n",
    "    if size >= 209715200: \n",
    "        a = 1\n",
    "    else:\n",
    "        a = 0\n",
    "    return a "
   ]
  },
  {
   "cell_type": "code",
   "execution_count": 4,
   "id": "735506fa",
   "metadata": {},
   "outputs": [],
   "source": [
    "def read_file (file):\n",
    "    data = pd.read_csv(file)\n",
    "    return data"
   ]
  },
  {
   "cell_type": "code",
   "execution_count": 5,
   "id": "618d07e9",
   "metadata": {},
   "outputs": [],
   "source": [
    "# Gets the lattice constant of the CONTCAR file\n",
    "def get_lattice(data,df,i):\n",
    "    b = [] \n",
    "    for i1 in [1,2,3]: \n",
    "        a = data.iloc[i1,0] \n",
    "        a = a.split(' ') \n",
    "        b = b+a \n",
    "    while '' in b: \n",
    "        b.remove('')\n",
    "    df['{}'.format(i)] = b \n",
    "    return df,b "
   ]
  },
  {
   "cell_type": "code",
   "execution_count": 6,
   "id": "c06210b0",
   "metadata": {},
   "outputs": [],
   "source": [
    "# Gets the average lattice constant\n",
    "def get_mean_lattice(df): \n",
    "    df = df.astype('float') \n",
    "    df['均值']=df.mean(axis=1) \n",
    "    mean = df.iloc[:,-1] \n",
    "    print ('均值为：{}'.format(mean)) \n",
    "    return mean "
   ]
  },
  {
   "cell_type": "code",
   "execution_count": 7,
   "id": "9b3c1722",
   "metadata": {
    "code_folding": []
   },
   "outputs": [],
   "source": [
    "# Gets the average lattice constant\n",
    "def get_mean_abc(mean):\n",
    "    a = str(mean.iloc[0])+' '+str(mean.iloc[1])+' '+str(mean.iloc[2])\n",
    "    b = str(mean.iloc[3])+' '+str(mean.iloc[4])+' '+str(mean.iloc[5])\n",
    "    c = str(mean.iloc[6])+' '+str(mean.iloc[7])+' '+str(mean.iloc[8])\n",
    "    return a,b,c "
   ]
  },
  {
   "cell_type": "code",
   "execution_count": 8,
   "id": "2729e644",
   "metadata": {},
   "outputs": [],
   "source": [
    "# Replacement lattice constant\n",
    "def get_train_contcar(a,b,c,data):\n",
    "    data.loc[1,:]=a\n",
    "    data.loc[2,:]=b\n",
    "    data.loc[3,:]=c\n",
    "    return data "
   ]
  },
  {
   "cell_type": "code",
   "execution_count": 9,
   "id": "8bf7c7a6",
   "metadata": {},
   "outputs": [],
   "source": [
    "# Write a new CONTCAR\n",
    "def write_contcar(i,data,path):\n",
    "    data.to_csv(path + '/CONTCAR{}'.format(i),index=False)"
   ]
  },
  {
   "cell_type": "code",
   "execution_count": 10,
   "id": "8e6b99b3",
   "metadata": {},
   "outputs": [],
   "source": [
    "# create new dir\n",
    "def makedir(path1,path2,path3,path4):\n",
    "        if os.path.exists(path1) == 0: \n",
    "            os.mkdir(path1)\n",
    "        if os.path.exists(path2) == 0:\n",
    "            os.mkdir(path2)\n",
    "        if os.path.exists(path3) == 0:\n",
    "            os.mkdir(path3)\n",
    "        if os.path.exists(path4) == 0:\n",
    "            os.mkdir(path4)"
   ]
  },
  {
   "cell_type": "code",
   "execution_count": 11,
   "id": "f6512cc4",
   "metadata": {},
   "outputs": [],
   "source": [
    "# convert cif and get lattice constant\n",
    "def get_abc(file,path4,i2):\n",
    "    os.system('ase convert {} {}/{}.cif'.format(file,path4,i2))\n",
    "    data = pd.read_csv('{}/{}.cif'.format(path4,i2),error_bad_lines = False)\n",
    "    ls = []\n",
    "    for i in range(2,5):\n",
    "        l = data.iloc[i,0] \n",
    "        l = l.split(' ') \n",
    "        ls = ls+l \n",
    "    while '' in ls: \n",
    "        ls.remove('')\n",
    "    a = ls[1]\n",
    "    b = ls[3]\n",
    "    c = ls[5]\n",
    "    return a,b,c"
   ]
  },
  {
   "cell_type": "code",
   "execution_count": 12,
   "id": "84d981df",
   "metadata": {},
   "outputs": [],
   "source": [
    "# calculate the surface strain\n",
    "def get_strain(a,b,c):\n",
    "    l = sqrt((pow(a,2)+pow(b,2)))\n",
    "    m = sqrt((pow(a,2)+pow(c,2)))\n",
    "    n = sqrt((pow(b,2)+pow(c,2)))\n",
    "    p = (l + m + n)/2\n",
    "    s = sqrt(p * (p-l) * (p-m) * (p-n))\n",
    "    return s"
   ]
  },
  {
   "cell_type": "code",
   "execution_count": 13,
   "id": "8ae87825",
   "metadata": {},
   "outputs": [],
   "source": [
    "# calculate the surface strain via ptcu3\n",
    "def get_strain_via_ptcu3(a,b,c):\n",
    "    s_ptcu3 = get_strain(7.45216 ,7.45215 , 7.45216)\n",
    "    suface_strain = (get_strain(a,b,c) - s_ptcu3) / s_ptcu3\n",
    "    return suface_strain"
   ]
  },
  {
   "cell_type": "code",
   "execution_count": 15,
   "id": "e021f0cb",
   "metadata": {},
   "outputs": [],
   "source": [
    "# get the oszicar\n",
    "def get_oszicar(file_OSZICAR):\n",
    "    with open(file_OSZICAR, 'r', encoding='utf-8') as f: \n",
    "        lines = f.readlines()  \n",
    "        last_line = lines[-1]  \n",
    "    return last_line "
   ]
  },
  {
   "cell_type": "code",
   "execution_count": 16,
   "id": "34a146b1",
   "metadata": {},
   "outputs": [],
   "source": [
    "# get the atom of contcar\n",
    "def get_train_atom(data):\n",
    "    atom = data.iloc[4,0]\n",
    "    counts = data.iloc[5,0]\n",
    "    atom = atom.split(' ')\n",
    "    counts = counts.split(' ')\n",
    "    while '' in atom: \n",
    "        atom.remove('')\n",
    "    while '' in counts: \n",
    "        counts.remove('')\n",
    "    return atom,counts"
   ]
  },
  {
   "cell_type": "code",
   "execution_count": 17,
   "id": "88c54ba1",
   "metadata": {},
   "outputs": [],
   "source": [
    "# get e0\n",
    "def get_e0(last_line , atom , counts , data_energy):\n",
    "    last_line = last_line.split(' ') \n",
    "    for i in range (len(last_line)): \n",
    "        if last_line[i] == 'E0=':\n",
    "            E0 = float(last_line[i+1])\n",
    "    for i in range(len(atom)):\n",
    "        E0 = E0 - data_energy.loc[atom[i],0] * int(counts[i])\n",
    "    return E0 "
   ]
  },
  {
   "cell_type": "code",
   "execution_count": 18,
   "id": "ce0b0c73",
   "metadata": {},
   "outputs": [],
   "source": [
    "# write num and e0\n",
    "def write_csv_e0(i,E0,path2):\n",
    "    csv_data = [str(i),str(E0)] \n",
    "    with open(path2+'/id_prop.csv', 'a', encoding='utf-8') as f:\n",
    "        f.write(','.join(csv_data)+'\\n') "
   ]
  },
  {
   "cell_type": "code",
   "execution_count": 19,
   "id": "ce0a7f6e",
   "metadata": {},
   "outputs": [],
   "source": [
    "# write num and surface strain\n",
    "def write_csv_strain(i,y,path2):\n",
    "    csv_data = [str(i),str(y)] \n",
    "    with open(path3+'/id_prop.csv', 'a', encoding='utf-8') as f:\n",
    "        f.write(','.join(csv_data)+'\\n') "
   ]
  },
  {
   "cell_type": "code",
   "execution_count": 20,
   "id": "3e035a02",
   "metadata": {
    "code_folding": []
   },
   "outputs": [],
   "source": [
    "def main(n,path1,path2,path3,path4,data_energy):\n",
    "    df = pd.DataFrame() \n",
    "    x = []\n",
    "    y = [] \n",
    "    makedir(path1,path2,path3,path4) \n",
    "    for i in range(n): \n",
    "        dirpath = f'results{i}'\n",
    "        a = get_origin_data(i,dirpath) \n",
    "        if a == 1: \n",
    "            x.append(i)\n",
    "            file = dirpath + '/CONTCAR' \n",
    "            data = read_file(file) \n",
    "            df,dt = get_lattice(data,df,i) \n",
    "            a1,b1,c1 = get_abc(file,path4,i)\n",
    "            suface_strain = get_strain_via_ptcu3(float(a1),float(b1),float(c1))\n",
    "            y.append(suface_strain)\n",
    "    mean = get_mean_lattice(df)\n",
    "    a,b,c = get_mean_abc(mean) \n",
    "    print (x) \n",
    "    coordinate = pd.read_csv('POSCAR').iloc[7:39,:] \n",
    "    for i in x: \n",
    "        file = f'results{i}'\n",
    "        print (file) \n",
    "        data = read_file(f'{file}/CONTCAR') \n",
    "        data = get_train_contcar(a,b,c,data)\n",
    "        data.iloc[7:39,:] = coordinate \n",
    "        atom,counts = get_train_atom(data)\n",
    "        last_line = get_oszicar(f'{file}/OSZICAR')\n",
    "        E0 = get_e0(last_line,atom,counts,data_energy)\n",
    "        write_contcar(i,data,path1) \n",
    "        os.system('ase convert {}/CONTCAR{} {}/{}.cif'.format(path1,i,path2,i))\n",
    "        write_csv_e0(i,str(E0),path2) \n",
    "        write_csv_strain(i,y.pop(0),path3)"
   ]
  },
  {
   "cell_type": "code",
   "execution_count": null,
   "id": "22f7962f-78d8-4656-bd26-bab107556271",
   "metadata": {},
   "outputs": [],
   "source": [
    "n = 651\n",
    "path1 = r'results_after' \n",
    "path2 = r'results_cif' \n",
    "path3 = r'results_suface'\n",
    "path4 = r'results_initial_cif'\n",
    "data_energy = pd.DataFrame([-6.0982,-9.1198,-8.9174,-7.03679,-5.4686,-3.72838,\n",
    "                               -2.2218,-8.2377852,-2.906231,-2.55672,-10.932452],\n",
    "                              index = ['Pt','Cr','Mn','Co','Ni','Cu','Zn','Fe','Ga','In','Mo'])\n",
    "main(n,path1,path2,path3,path4,data_energy) "
   ]
  }
 ],
 "metadata": {
  "kernelspec": {
   "display_name": "Python 3 (ipykernel)",
   "language": "python",
   "name": "python3"
  },
  "language_info": {
   "codemirror_mode": {
    "name": "ipython",
    "version": 3
   },
   "file_extension": ".py",
   "mimetype": "text/x-python",
   "name": "python",
   "nbconvert_exporter": "python",
   "pygments_lexer": "ipython3",
   "version": "3.12.4"
  },
  "toc": {
   "base_numbering": 1,
   "nav_menu": {},
   "number_sections": true,
   "sideBar": true,
   "skip_h1_title": false,
   "title_cell": "Table of Contents",
   "title_sidebar": "Contents",
   "toc_cell": false,
   "toc_position": {},
   "toc_section_display": true,
   "toc_window_display": false
  }
 },
 "nbformat": 4,
 "nbformat_minor": 5
}
