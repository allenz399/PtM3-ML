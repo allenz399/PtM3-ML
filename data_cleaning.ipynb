{
 "cells": [
  {
   "cell_type": "code",
   "execution_count": 1,
   "id": "aaba8129",
   "metadata": {},
   "outputs": [],
   "source": [
    "import pandas as pd\n",
    "import numpy as np\n",
    "import os\n",
    "from math import *"
   ]
  },
  {
   "cell_type": "code",
   "execution_count": 2,
   "id": "6458ffcb",
   "metadata": {},
   "outputs": [],
   "source": [
    "#一次读取多个文件的大小\n",
    "def get_dir_size(dir): #1M=1048576字节 200M=209715200字节\n",
    "    size = 0 #初始化size\n",
    "    for root, dirs, files in os.walk(dir): #遍历文件夹内每一个子文件\n",
    "        size += sum([os.path.getsize(root + '/'+ name) for name in files]) #计算总大小\n",
    "    return size"
   ]
  },
  {
   "cell_type": "code",
   "execution_count": 3,
   "id": "5484406e",
   "metadata": {},
   "outputs": [],
   "source": [
    "#判断文件是否大于200M，即是否完成收敛\n",
    "def get_origin_data (i,dirpath):\n",
    "    size = get_dir_size(dirpath) #引用函数获取文件大小\n",
    "    print (i,size) #输出每个文件夹的大小\n",
    "    if size >= 209715200: #判断文件夹是否大于200M，大于则输出1用于判断\n",
    "        a = 1\n",
    "    else:\n",
    "        a = 0\n",
    "    return a #返回判断值和文件夹路径"
   ]
  },
  {
   "cell_type": "code",
   "execution_count": 4,
   "id": "735506fa",
   "metadata": {},
   "outputs": [],
   "source": [
    "#读取文件并放入pandas进行处理\n",
    "def read_file (file):\n",
    "    data = pd.read_csv(file)\n",
    "    return data"
   ]
  },
  {
   "cell_type": "code",
   "execution_count": 5,
   "id": "618d07e9",
   "metadata": {},
   "outputs": [],
   "source": [
    "#获取CONTCAR文件的晶格常数并按列放入dataframe\n",
    "def get_lattice(data,df,i):\n",
    "    b = [] #初始化一个列表用于放入三行晶格常数\n",
    "    for i1 in [1,2,3]: #遍历三行晶格常数\n",
    "        a = data.iloc[i1,0] #读取对应行标的晶格常数，str格式\n",
    "        a = a.split(' ') #str格式带有多个空格，用空格作为判断标准分成列表\n",
    "        b = b+a #合成一个列表\n",
    "    while '' in b: #把空格项删除\n",
    "        b.remove('')\n",
    "    df['{}'.format(i)] = b #把列表的晶格常数按列放入dataframe\n",
    "    return df,b #返回含有晶格常数的dataframe，并返回一个含有abc的列表用于计算表面内应力"
   ]
  },
  {
   "cell_type": "code",
   "execution_count": 6,
   "id": "c06210b0",
   "metadata": {},
   "outputs": [],
   "source": [
    "# 把含有晶格常数的dataframe对每一行求平均值，求得平均晶格常数\n",
    "def get_mean_lattice(df): \n",
    "    df = df.astype('float') #把dataframe所有元素转换成float类型\n",
    "    df['均值']=df.mean(axis=1) #按行求平均值，列名为均值\n",
    "    mean = df.iloc[:,-1] #把平均值放入mean\n",
    "    print ('均值为：{}'.format(mean)) #输出均值\n",
    "    return mean #返回mean"
   ]
  },
  {
   "cell_type": "code",
   "execution_count": 7,
   "id": "9b3c1722",
   "metadata": {
    "code_folding": []
   },
   "outputs": [],
   "source": [
    "# 把mean中的晶格常数分为a,b,c三行，用于放入CONTCAR文件中\n",
    "def get_mean_abc(mean):\n",
    "    a = str(mean.iloc[0])+' '+str(mean.iloc[1])+' '+str(mean.iloc[2])\n",
    "    b = str(mean.iloc[3])+' '+str(mean.iloc[4])+' '+str(mean.iloc[5])\n",
    "    c = str(mean.iloc[6])+' '+str(mean.iloc[7])+' '+str(mean.iloc[8])\n",
    "    return a,b,c #返回三行晶格常数均值"
   ]
  },
  {
   "cell_type": "code",
   "execution_count": 8,
   "id": "2729e644",
   "metadata": {},
   "outputs": [],
   "source": [
    "# 用三行晶格常数均值替换掉原CONTACR文件data的晶格常数\n",
    "def get_train_contcar(a,b,c,data):\n",
    "    data.loc[1,:]=a\n",
    "    data.loc[2,:]=b\n",
    "    data.loc[3,:]=c\n",
    "    return data #返回替换后的CONTCAR"
   ]
  },
  {
   "cell_type": "code",
   "execution_count": 9,
   "id": "8bf7c7a6",
   "metadata": {},
   "outputs": [],
   "source": [
    "# 把新的CONTCAR数据data按path路径和文件名i写入新的CONTCAR文件\n",
    "def write_contcar(i,data,path):\n",
    "    data.to_csv(path + '/CONTCAR{}'.format(i),index=False)"
   ]
  },
  {
   "cell_type": "code",
   "execution_count": 10,
   "id": "8e6b99b3",
   "metadata": {},
   "outputs": [],
   "source": [
    "# 按照规定的path1和path2路径创建放置CONTCAR和cif文件的文件夹\n",
    "def makedir(path1,path2,path3,path4):\n",
    "        if os.path.exists(path1) == 0: #判断路径是否存在对应文件夹，有则略过，无则创建\n",
    "            os.mkdir(path1)\n",
    "        if os.path.exists(path2) == 0:\n",
    "            os.mkdir(path2)\n",
    "        if os.path.exists(path3) == 0:\n",
    "            os.mkdir(path3)\n",
    "        if os.path.exists(path4) == 0:\n",
    "            os.mkdir(path4)"
   ]
  },
  {
   "cell_type": "code",
   "execution_count": 11,
   "id": "f6512cc4",
   "metadata": {},
   "outputs": [],
   "source": [
    "# 转换原始cif并提取abc用于表面应力计算\n",
    "def get_abc(file,path4,i2):\n",
    "    os.system('ase convert {} {}/{}.cif'.format(file,path4,i2))\n",
    "    data = pd.read_csv('{}/{}.cif'.format(path4,i2),error_bad_lines = False)\n",
    "    ls = []\n",
    "    for i in range(2,5):\n",
    "        l = data.iloc[i,0] #读取对应行标的晶格常数，str格式\n",
    "        l = l.split(' ') #str格式带有多个空格，用空格作为判断标准分成列表\n",
    "        ls = ls+l #合成一个列表\n",
    "    while '' in ls: #把空格项删除\n",
    "        ls.remove('')\n",
    "    a = ls[1]\n",
    "    b = ls[3]\n",
    "    c = ls[5]\n",
    "    return a,b,c"
   ]
  },
  {
   "cell_type": "code",
   "execution_count": 12,
   "id": "84d981df",
   "metadata": {},
   "outputs": [],
   "source": [
    "# 计算表面应力\n",
    "def get_strain(a,b,c):\n",
    "    l = sqrt((pow(a,2)+pow(b,2)))\n",
    "    m = sqrt((pow(a,2)+pow(c,2)))\n",
    "    n = sqrt((pow(b,2)+pow(c,2)))\n",
    "    p = (l + m + n)/2\n",
    "    s = sqrt(p * (p-l) * (p-m) * (p-n))\n",
    "    return s"
   ]
  },
  {
   "cell_type": "code",
   "execution_count": 13,
   "id": "8ae87825",
   "metadata": {},
   "outputs": [],
   "source": [
    "# 计算表面应力差值（与PtCu3作比较）\n",
    "def get_strain_via_ptcu3(a,b,c):\n",
    "    s_ptcu3 = get_strain(7.45216 ,7.45215 , 7.45216)\n",
    "    suface_strain = (get_strain(a,b,c) - s_ptcu3) / s_ptcu3\n",
    "    return suface_strain"
   ]
  },
  {
   "cell_type": "code",
   "execution_count": 14,
   "id": "d5fb6979",
   "metadata": {},
   "outputs": [],
   "source": [
    "# 以下为读取E0函数"
   ]
  },
  {
   "cell_type": "code",
   "execution_count": 15,
   "id": "e021f0cb",
   "metadata": {},
   "outputs": [],
   "source": [
    "# 读取OSZICAR文件，并取最后一行\n",
    "def get_oszicar(file_OSZICAR):\n",
    "    with open(file_OSZICAR, 'r', encoding='utf-8') as f:  # 打开文件\n",
    "        lines = f.readlines()  # 读取所有行\n",
    "        last_line = lines[-1]  # 取最后一行\n",
    "    return last_line #返回最后一行"
   ]
  },
  {
   "cell_type": "code",
   "execution_count": 16,
   "id": "34a146b1",
   "metadata": {},
   "outputs": [],
   "source": [
    "def get_train_atom(data):\n",
    "    atom = data.iloc[4,0]\n",
    "    counts = data.iloc[5,0]\n",
    "    atom = atom.split(' ')\n",
    "    counts = counts.split(' ')\n",
    "    while '' in atom: #把空格项删除\n",
    "        atom.remove('')\n",
    "    while '' in counts: #把空格项删除\n",
    "        counts.remove('')\n",
    "    return atom,counts"
   ]
  },
  {
   "cell_type": "code",
   "execution_count": 17,
   "id": "88c54ba1",
   "metadata": {},
   "outputs": [],
   "source": [
    "# 在最后一行的文本中提取出E0的值\n",
    "def get_e0(last_line , atom , counts , data_energy):\n",
    "    last_line = last_line.split(' ') #按文本中的空格分割出列表\n",
    "# 遍历列表，把'E0='后面的数值取出，此处特定E0数值为负数，如果为正数则需要加一个空值判断\n",
    "    for i in range (len(last_line)): \n",
    "        if last_line[i] == 'E0=':\n",
    "            E0 = float(last_line[i+1])\n",
    "    for i in range(len(atom)):\n",
    "        E0 = E0 - data_energy.loc[atom[i],0] * int(counts[i])\n",
    "    return E0 #返回E0数值"
   ]
  },
  {
   "cell_type": "code",
   "execution_count": 18,
   "id": "ce0b0c73",
   "metadata": {},
   "outputs": [],
   "source": [
    "# 把文件号和E0写入CSV，创建ML命令CSV文件\n",
    "def write_csv_e0(i,E0,path2):\n",
    "    csv_data = [str(i),str(E0)] #把文件号和E0放入同一个列表，方便放入csv的同一行\n",
    "    with open(path2+'/id_prop.csv', 'a', encoding='utf-8') as f:\n",
    "        f.write(','.join(csv_data)+'\\n') #以','作为分割，把数据放入csv"
   ]
  },
  {
   "cell_type": "code",
   "execution_count": 19,
   "id": "ce0a7f6e",
   "metadata": {},
   "outputs": [],
   "source": [
    "# 把文件号和suface_strain写入CSV，创建ML命令CSV文件\n",
    "def write_csv_strain(i,y,path2):\n",
    "    csv_data = [str(i),str(y)] #把文件号和E0放入同一个列表，方便放入csv的同一行\n",
    "    with open(path3+'/id_prop.csv', 'a', encoding='utf-8') as f:\n",
    "        f.write(','.join(csv_data)+'\\n') #以','作为分割，把数据放入csv"
   ]
  },
  {
   "cell_type": "code",
   "execution_count": 20,
   "id": "3e035a02",
   "metadata": {
    "code_folding": []
   },
   "outputs": [],
   "source": [
    "# 只能用于遍历具有相同命名规则且文件号具有顺序的文件\n",
    "def main(n,path1,path2,path3,path4,data_energy):\n",
    "    df = pd.DataFrame() #初始化一个dataframe，用于放置所有CONTCAR文件的晶格常数\n",
    "    x = [] #用于储存大于200M文件夹的文件号\n",
    "    y = [] #存储表面应力\n",
    "    makedir(path1,path2,path3,path4) #创建放置CONTCAR文件和cif文件的文件夹\n",
    "    for i in range(n): #计算每个符合的CONTCAR文件的晶格常数的均值\n",
    "        dirpath = f'results{i}' #用于判断大小的文件夹路径\n",
    "        a = get_origin_data(i,dirpath) #取出判断值a和文件夹路径\n",
    "        if a == 1: #a等于1则表示该路径的文件夹大小大于200M\n",
    "            x.append(i) #把大于200M文件夹的文件号放入x\n",
    "            file = dirpath + '/CONTCAR' #file路径为大于200M文件夹下的CONTCAR文件\n",
    "            data = read_file(file) #读取file并放进pandas\n",
    "            df,dt = get_lattice(data,df,i)  #把所有适合的CONTCAR文件的晶格常数放入df\n",
    "            a1,b1,c1 = get_abc(file,path4,i)\n",
    "            suface_strain = get_strain_via_ptcu3(float(a1),float(b1),float(c1))\n",
    "            y.append(suface_strain)\n",
    "    mean = get_mean_lattice(df) #用df计算晶格常数均值\n",
    "    a,b,c = get_mean_abc(mean) #取出三行晶格常数均值 \n",
    "    print (x) #显示用于计算的文件号\n",
    "    #读取原子坐标\n",
    "    coordinate = pd.read_csv('POSCAR').iloc[7:39,:] #提取初始坐标\n",
    "    for i in x: #从x取出大于200M文件夹的号数\n",
    "        file = f'results{i}'\n",
    "        print (file) #用于显示程序写入到哪个文件夹，展示进度用\n",
    "        data = read_file(f'{file}/CONTCAR') #读取CONTCAR文件\n",
    "        data = get_train_contcar(a,b,c,data) #替换CONTCAR文件中的晶格常数\n",
    "        data.iloc[7:39,:] = coordinate #初始化原子坐标\n",
    "        atom,counts = get_train_atom(data)\n",
    "        last_line = get_oszicar(f'{file}/OSZICAR') #取出OSZICAR文件E0所在的最后一行\n",
    "        E0 = get_e0(last_line,atom,counts,data_energy) #取出E0的值\n",
    "        write_contcar(i,data,path1) #把新的CONTCAR文件放进path1\n",
    "        os.system('ase convert {}/CONTCAR{} {}/{}.cif'.format(path1,i,path2,i)) #把CONTCAT文件转换成cif文件并放入path2\n",
    "        write_csv_e0(i,str(E0),path2) #把文件号的E0放入csv，并放在path2\n",
    "        write_csv_strain(i,y.pop(0),path3)"
   ]
  },
  {
   "cell_type": "code",
   "execution_count": null,
   "id": "22f7962f-78d8-4656-bd26-bab107556271",
   "metadata": {},
   "outputs": [],
   "source": [
    "n = 650\n",
    "path1 = r'results_after' #放置CONTCAR文件\n",
    "path2 = r'results_cif' #放置cif文件和csv文件\n",
    "path3 = r'results_suface'\n",
    "path4 = r'results_initial_cif'\n",
    "data_energy = pd.DataFrame([-6.0982,-9.1198,-8.9174,-7.03679,-5.4686,-3.72838,\n",
    "                               -2.2218,-8.2377852,-2.906231,-2.55672,-10.932452],\n",
    "                              index = ['Pt','Cr','Mn','Co','Ni','Cu','Zn','Fe','Ga','In','Mo'])\n",
    "main(n,path1,path2,path3,path4,data_energy) #main（文件夹个数，path1，path2,path3）"
   ]
  }
 ],
 "metadata": {
  "kernelspec": {
   "display_name": "Python 3 (ipykernel)",
   "language": "python",
   "name": "python3"
  },
  "language_info": {
   "codemirror_mode": {
    "name": "ipython",
    "version": 3
   },
   "file_extension": ".py",
   "mimetype": "text/x-python",
   "name": "python",
   "nbconvert_exporter": "python",
   "pygments_lexer": "ipython3",
   "version": "3.12.4"
  },
  "toc": {
   "base_numbering": 1,
   "nav_menu": {},
   "number_sections": true,
   "sideBar": true,
   "skip_h1_title": false,
   "title_cell": "Table of Contents",
   "title_sidebar": "Contents",
   "toc_cell": false,
   "toc_position": {},
   "toc_section_display": true,
   "toc_window_display": false
  }
 },
 "nbformat": 4,
 "nbformat_minor": 5
}
